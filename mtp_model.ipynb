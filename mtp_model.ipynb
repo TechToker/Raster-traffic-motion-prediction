{
 "cells": [
  {
   "cell_type": "code",
   "execution_count": 1,
   "metadata": {},
   "outputs": [],
   "source": [
    "# TODO:\n",
    "# Dont forget about normalized agent state\n",
    "# Dont forget about put logits to loss, not probablility"
   ]
  },
  {
   "cell_type": "code",
   "execution_count": 1,
   "metadata": {},
   "outputs": [
    {
     "name": "stdout",
     "output_type": "stream",
     "text": [
      "Wed Jun  1 20:33:34 2022       \n",
      "+-----------------------------------------------------------------------------+\n",
      "| NVIDIA-SMI 465.89       Driver Version: 465.89       CUDA Version: 11.3     |\n",
      "|-------------------------------+----------------------+----------------------+\n",
      "| GPU  Name            TCC/WDDM | Bus-Id        Disp.A | Volatile Uncorr. ECC |\n",
      "| Fan  Temp  Perf  Pwr:Usage/Cap|         Memory-Usage | GPU-Util  Compute M. |\n",
      "|                               |                      |               MIG M. |\n",
      "|===============================+======================+======================|\n",
      "|   0  NVIDIA GeForce ... WDDM  | 00000000:01:00.0  On |                  N/A |\n",
      "| N/A   40C    P8     1W /  N/A |    532MiB /  4096MiB |      5%      Default |\n",
      "|                               |                      |                  N/A |\n",
      "+-------------------------------+----------------------+----------------------+\n",
      "                                                                               \n",
      "+-----------------------------------------------------------------------------+\n",
      "| Processes:                                                                  |\n",
      "|  GPU   GI   CI        PID   Type   Process name                  GPU Memory |\n",
      "|        ID   ID                                                   Usage      |\n",
      "|=============================================================================|\n",
      "|    0   N/A  N/A      1444    C+G   Insufficient Permissions        N/A      |\n",
      "|    0   N/A  N/A      3128    C+G   ...ekyb3d8bbwe\\YourPhone.exe    N/A      |\n",
      "|    0   N/A  N/A      5500    C+G   ...me\\Application\\chrome.exe    N/A      |\n",
      "|    0   N/A  N/A      6020    C+G   ...lPanel\\SystemSettings.exe    N/A      |\n",
      "|    0   N/A  N/A      6068    C+G   ...bbwe\\Microsoft.Photos.exe    N/A      |\n",
      "|    0   N/A  N/A      6836    C+G   ...y\\ShellExperienceHost.exe    N/A      |\n",
      "|    0   N/A  N/A      7100    C+G   ...gram Desktop\\Telegram.exe    N/A      |\n",
      "|    0   N/A  N/A      7372    C+G   ...5n1h2txyewy\\SearchApp.exe    N/A      |\n",
      "|    0   N/A  N/A      7672    C+G   C:\\Windows\\explorer.exe         N/A      |\n",
      "|    0   N/A  N/A      7832    C+G   ...artMenuExperienceHost.exe    N/A      |\n",
      "|    0   N/A  N/A      8688    C+G   ...2txyewy\\TextInputHost.exe    N/A      |\n",
      "|    0   N/A  N/A      9648    C+G   ...5n1h2txyewy\\SearchApp.exe    N/A      |\n",
      "|    0   N/A  N/A     13248    C+G   ...cw5n1h2txyewy\\LockApp.exe    N/A      |\n",
      "+-----------------------------------------------------------------------------+\n"
     ]
    }
   ],
   "source": [
    "!nvidia-smi"
   ]
  },
  {
   "cell_type": "code",
   "execution_count": 2,
   "metadata": {
    "pycharm": {
     "name": "#%%\n"
    }
   },
   "outputs": [
    {
     "name": "stdout",
     "output_type": "stream",
     "text": [
      "Cuda available: True\n",
      "Running on: cuda, Device count: 1\n"
     ]
    }
   ],
   "source": [
    "import torch\n",
    "import numpy as np\n",
    "\n",
    "print(f'Cuda available: {torch.cuda.is_available()}')\n",
    "\n",
    "#device = torch.device('cuda:0' if torch.cuda.is_available() else 'cpu')\n",
    "device = torch.device(\"cuda\" if torch.cuda.is_available() else \"cpu\")\n",
    "\n",
    "print(f'Running on: {device}, Device count: {torch.cuda.device_count()}')"
   ]
  },
  {
   "cell_type": "markdown",
   "metadata": {},
   "source": [
    "### Init dataset"
   ]
  },
  {
   "cell_type": "code",
   "execution_count": 3,
   "metadata": {},
   "outputs": [],
   "source": [
    "from nuscenes import NuScenes\n",
    "from custom_prediction.helper import PredictHelper"
   ]
  },
  {
   "cell_type": "code",
   "execution_count": 4,
   "metadata": {},
   "outputs": [],
   "source": [
    "# This is the path where you stored your copy of the nuScenes dataset.\n",
    "DATAROOT = './dataset/'\n",
    "\n",
    "nusc = NuScenes('v1.0-mini', dataroot=DATAROOT, verbose=False)"
   ]
  },
  {
   "cell_type": "code",
   "execution_count": 5,
   "metadata": {},
   "outputs": [],
   "source": [
    "from nuscenes.eval.prediction.splits import get_prediction_challenge_split\n",
    "\n",
    "train_samples = get_prediction_challenge_split(\"train\", dataroot=DATAROOT)\n",
    "valid_samples = get_prediction_challenge_split(\"train_val\", dataroot=DATAROOT)"
   ]
  },
  {
   "cell_type": "code",
   "execution_count": 6,
   "metadata": {},
   "outputs": [],
   "source": [
    "import matplotlib.pyplot as plt\n",
    "\n",
    "def show_img(img, size=4):\n",
    "    plt.figure(figsize=(size, size))\n",
    "    plt.axis('off')\n",
    "#     img_sorce = img *= 255\n",
    "    plt.imshow(img)\n",
    "    plt.show()"
   ]
  },
  {
   "cell_type": "markdown",
   "metadata": {},
   "source": [
    "### Dataset loading"
   ]
  },
  {
   "cell_type": "code",
   "execution_count": 7,
   "metadata": {},
   "outputs": [],
   "source": [
    "import numpy as np\n",
    "\n",
    "NPY_DATAROOT = './npy_dataset/'"
   ]
  },
  {
   "cell_type": "code",
   "execution_count": 8,
   "metadata": {},
   "outputs": [],
   "source": [
    "train_images = np.load(f'{NPY_DATAROOT}train/train_img.npy')\n",
    "train_states = np.load(f'{NPY_DATAROOT}train/train_states.npy')\n",
    "train_labels = np.load(f'{NPY_DATAROOT}train/train_labels.npy')\n",
    "\n",
    "# train_images = np.load(f'{NPY_DATAROOT}train_img_small.npy')\n",
    "# train_states = np.load(f'{NPY_DATAROOT}train_states_small.npy')\n",
    "# train_labels = np.load(f'{NPY_DATAROOT}train_labels_small.npy')"
   ]
  },
  {
   "cell_type": "code",
   "execution_count": 9,
   "metadata": {},
   "outputs": [
    {
     "data": {
      "text/plain": [
       "(100, 100, 100)"
      ]
     },
     "execution_count": 9,
     "metadata": {},
     "output_type": "execute_result"
    }
   ],
   "source": [
    "len(train_images), len(train_states), len(train_labels)"
   ]
  },
  {
   "cell_type": "code",
   "execution_count": 10,
   "metadata": {},
   "outputs": [],
   "source": [
    "valid_images = np.load(f'{NPY_DATAROOT}valid/valid_img.npy')\n",
    "valid_states = np.load(f'{NPY_DATAROOT}valid/valid_states.npy')\n",
    "valid_labels = np.load(f'{NPY_DATAROOT}valid/valid_labels.npy')\n",
    "\n",
    "# valid_images = np.load(f'{NPY_DATAROOT}valid_img_small.npy')\n",
    "# valid_states = np.load(f'{NPY_DATAROOT}valid_states_small.npy')\n",
    "# valid_labels = np.load(f'{NPY_DATAROOT}valid_labels_small.npy')"
   ]
  },
  {
   "cell_type": "code",
   "execution_count": 11,
   "metadata": {},
   "outputs": [
    {
     "data": {
      "text/plain": [
       "(100, 100, 100)"
      ]
     },
     "execution_count": 11,
     "metadata": {},
     "output_type": "execute_result"
    }
   ],
   "source": [
    "len(valid_images), len(valid_states), len(valid_labels)"
   ]
  },
  {
   "cell_type": "code",
   "execution_count": 12,
   "metadata": {},
   "outputs": [],
   "source": [
    "# Fix error dot : expected both vectors to have same dtype, but found Double and Float\n",
    "# Because predictions from MTP in type float32\n",
    "\n",
    "train_labels = train_labels.astype(np.float32)\n",
    "valid_labels = valid_labels.astype(np.float32)"
   ]
  },
  {
   "cell_type": "markdown",
   "metadata": {},
   "source": [
    "### Check data"
   ]
  },
  {
   "cell_type": "code",
   "execution_count": 59,
   "metadata": {},
   "outputs": [
    {
     "data": {
      "image/png": "[encoded data removed]",
      "text/plain": [
       "<Figure size 288x288 with 1 Axes>"
      ]
     },
     "metadata": {
      "needs_background": "light"
     },
     "output_type": "display_data"
    },
    {
     "name": "stdout",
     "output_type": "stream",
     "text": [
      "[ 0.34211713 -1.          0.5       ]\n",
      "\n",
      "[-0.19719921  4.4419527  -0.18747053  9.426088   -0.17884889 13.900209\n",
      " -0.1102653  19.262684    0.28769872 24.559027    0.8526941  29.850317\n",
      "  1.5770272  35.082508    2.3071277  40.355736    2.9427435  45.89043\n",
      "  3.9777403  51.535393    5.021899   57.50441     6.026791   62.815197  ]\n"
     ]
    }
   ],
   "source": [
    "index_to_check = 85\n",
    "\n",
    "img = valid_images[index_to_check]\n",
    "img = img.reshape((500, 500, 3))\n",
    "\n",
    "show_img(img)\n",
    "\n",
    "print(train_states[index_to_check])\n",
    "print()\n",
    "print(train_labels[index_to_check])"
   ]
  },
  {
   "cell_type": "code",
   "execution_count": 14,
   "metadata": {},
   "outputs": [],
   "source": [
    "def plot_path(trajectory):\n",
    "    plt.scatter(trajectory[:, 1], -trajectory[:, 0], c='g', s=10)\n",
    "    # Keep aspect ratio of axis\n",
    "    plt.axis('equal')\n",
    "    plt.show()"
   ]
  },
  {
   "cell_type": "code",
   "execution_count": 15,
   "metadata": {},
   "outputs": [
    {
     "data": {
      "image/png": "[encoded data removed]",
      "text/plain": [
       "<Figure size 432x288 with 1 Axes>"
      ]
     },
     "metadata": {
      "needs_background": "light"
     },
     "output_type": "display_data"
    }
   ],
   "source": [
    "a = train_labels[index_to_check].reshape(12, 2)\n",
    "plot_path(a)"
   ]
  },
  {
   "cell_type": "markdown",
   "metadata": {},
   "source": [
    "### Clear everything before start"
   ]
  },
  {
   "cell_type": "code",
   "execution_count": 16,
   "metadata": {},
   "outputs": [],
   "source": [
    "# from GPUtil import showUtilization as gpu_usage\n",
    "# from numba import cuda\n",
    "\n",
    "# def free_gpu_cache():\n",
    "#     print(\"Initial GPU Usage\")\n",
    "#     gpu_usage()                             \n",
    "\n",
    "#     torch.cuda.empty_cache()\n",
    "\n",
    "#     cuda.select_device(0)\n",
    "#     cuda.close()\n",
    "#     cuda.select_device(0)\n",
    "\n",
    "#     print(\"GPU Usage after emptying the cache\")\n",
    "#     gpu_usage()"
   ]
  },
  {
   "cell_type": "code",
   "execution_count": 17,
   "metadata": {},
   "outputs": [],
   "source": [
    "# free_gpu_cache()"
   ]
  },
  {
   "cell_type": "markdown",
   "metadata": {},
   "source": [
    "### Train"
   ]
  },
  {
   "cell_type": "code",
   "execution_count": 18,
   "metadata": {},
   "outputs": [],
   "source": [
    "# import wandb\n",
    "\n",
    "# wandb.init(\n",
    "#     project='MTP_1.0',\n",
    "#     entity='techtoker',\n",
    "#     config={    \n",
    "#         \"epoch\": 32,\n",
    "#         \"batch_size\": 32,\n",
    "#         \"num_modes\": 4,\n",
    "#         \"lr\":9e-5,\n",
    "#         \"notes\": \"second try\"\n",
    "#     })\n",
    "\n",
    "# config = wandb.config\n",
    "\n",
    "batch_size = 1\n",
    "epoch = 32\n",
    "num_modes = 4\n",
    "lr = 3e-4"
   ]
  },
  {
   "cell_type": "code",
   "execution_count": 19,
   "metadata": {},
   "outputs": [],
   "source": [
    "from torch.utils.data import DataLoader, Dataset\n",
    "from sklearn.preprocessing import MinMaxScaler\n",
    "\n",
    "import numpy as np\n",
    "from typing import List\n",
    "\n",
    "class NuscenesDataset(Dataset):\n",
    "    def __init__(self, features: List[str], states: List[str], labels: List[str]):\n",
    "        \n",
    "#         features = features.copy()\n",
    "#         states = states.copy()\n",
    "        \n",
    "#         features = features.astype(np.float16)\n",
    "    \n",
    "#         # normalization\n",
    "#         for i in range(len(features)):\n",
    "#             features[i] = features[i] / 255.0\n",
    "                    \n",
    "#         max_velocity = 26.0\n",
    "#         min_accel = -26.0\n",
    "#         max_accel = 26.0\n",
    "#         min_heading_cr = -1.5\n",
    "#         max_heading_cr = 1.5\n",
    "        \n",
    "#         # normalization        \n",
    "#         velocities = [state[0] / max_velocity for state in states]\n",
    "#         accel = [(state[1] + abs(min_accel)) / (abs(min_accel) + max_accel) for state in states]\n",
    "#         heading_cr = [(state[2] + abs(min_heading_cr)) / (abs(min_heading_cr) + max_heading_cr) for state in states]\n",
    "        \n",
    "#         for i in range(len(states)):\n",
    "#             states[i] = np.array([velocities[i], accel[i], heading_cr[i]])\n",
    "                \n",
    "        self.features = features\n",
    "        self.states = states\n",
    "        self.labels = labels\n",
    "\n",
    "    def __len__(self):\n",
    "        return len(self.features)\n",
    "    \n",
    "    def __getitem__(self, index: int):\n",
    "        image = self.features[index].reshape((500, 500, 3)) \n",
    "        \n",
    "        #show_img(image)\n",
    "        \n",
    "        image = torch.Tensor(image).permute(2, 0, 1)\n",
    "        \n",
    "        agent_state_vector = torch.Tensor(self.states[index])\n",
    "        ground_truth = self.labels[index].reshape((12, 2))\n",
    "\n",
    "        # Convert to [batch_size, 1, 12, 2]\n",
    "        # Because loss function need that format\n",
    "        ground_truth = np.expand_dims(ground_truth, 0)\n",
    "\n",
    "        return image, agent_state_vector, ground_truth"
   ]
  },
  {
   "cell_type": "code",
   "execution_count": 20,
   "metadata": {},
   "outputs": [],
   "source": [
    "train_ds = NuscenesDataset(train_images, train_states, train_labels)\n",
    "train_dl = DataLoader(train_ds, batch_size=batch_size, shuffle=True)\n",
    "\n",
    "validation_ds = NuscenesDataset(valid_images, valid_states, valid_labels)\n",
    "validation_dl = DataLoader(train_ds, batch_size=batch_size * 2)"
   ]
  },
  {
   "cell_type": "code",
   "execution_count": 21,
   "metadata": {},
   "outputs": [
    {
     "name": "stdout",
     "output_type": "stream",
     "text": [
      "torch.Size([1, 3, 500, 500])\n",
      "torch.Size([1, 3])\n",
      "torch.Size([1, 1, 12, 2])\n"
     ]
    }
   ],
   "source": [
    "image, state, ground_truth = next(iter(train_dl))\n",
    "\n",
    "print(image.size())\n",
    "print(state.size())\n",
    "print(ground_truth.size())"
   ]
  },
  {
   "cell_type": "code",
   "execution_count": 22,
   "metadata": {},
   "outputs": [
    {
     "name": "stdout",
     "output_type": "stream",
     "text": [
      "tensor(0.) tensor(255.)\n",
      "tensor([0.2320, 0.5002, 0.5000])\n"
     ]
    }
   ],
   "source": [
    "print(torch.min(image[0]), torch.max(image[0]))\n",
    "print(state[0])"
   ]
  },
  {
   "cell_type": "code",
   "execution_count": 23,
   "metadata": {},
   "outputs": [],
   "source": [
    "img = image[0].permute(1, 2, 0).numpy()#.astype(np.float64)"
   ]
  },
  {
   "cell_type": "code",
   "execution_count": 24,
   "metadata": {},
   "outputs": [
    {
     "data": {
      "text/plain": [
       "(500, 500, 3)"
      ]
     },
     "execution_count": 24,
     "metadata": {},
     "output_type": "execute_result"
    }
   ],
   "source": [
    "img.shape"
   ]
  },
  {
   "cell_type": "code",
   "execution_count": 25,
   "metadata": {},
   "outputs": [],
   "source": [
    "# for img in image:\n",
    "#     test = img.permute(1, 2, 0).numpy()\n",
    "    \n",
    "#     for t1 in test:\n",
    "#         for t2 in t1:\n",
    "#             print(t2)\n",
    "        \n",
    "#     print()"
   ]
  },
  {
   "cell_type": "code",
   "execution_count": 25,
   "metadata": {},
   "outputs": [],
   "source": [
    "# show_img(img.astype('uint8'))"
   ]
  },
  {
   "cell_type": "code",
   "execution_count": 25,
   "metadata": {},
   "outputs": [
    {
     "name": "stdout",
     "output_type": "stream",
     "text": [
      "0.0 0.40697304104780024\n",
      "-1.0 0.5838072193507226\n",
      "0.47236136331809875 0.5378376051220178\n"
     ]
    }
   ],
   "source": [
    "velocities = [state[0] for state in train_states]\n",
    "accel = [state[1] for state in train_states]\n",
    "heading_cr = [state[2] for state in train_states]\n",
    "\n",
    "print(min(velocities), max(velocities))\n",
    "print(min(accel), max(accel))\n",
    "print(min(heading_cr), max(heading_cr))"
   ]
  },
  {
   "cell_type": "code",
   "execution_count": 27,
   "metadata": {},
   "outputs": [],
   "source": [
    "# Output has 50 entries.\n",
    "# The first 24 are x,y coordinates (in the agent frame) over the next 6 seconds at 2 Hz for the first mode.\n",
    "# The second 24 are the x,y coordinates for the second mode.\n",
    "# The last 2 are the logits of the mode probabilities\n",
    "# mtp(image, state)"
   ]
  },
  {
   "cell_type": "code",
   "execution_count": 26,
   "metadata": {},
   "outputs": [
    {
     "data": {
      "text/plain": [
       "DataParallel(\n",
       "  (module): MTP(\n",
       "    (backbone): ResNetBackbone(\n",
       "      (backbone): Sequential(\n",
       "        (0): Conv2d(3, 64, kernel_size=(7, 7), stride=(2, 2), padding=(3, 3), bias=False)\n",
       "        (1): BatchNorm2d(64, eps=1e-05, momentum=0.1, affine=True, track_running_stats=True)\n",
       "        (2): ReLU(inplace=True)\n",
       "        (3): MaxPool2d(kernel_size=3, stride=2, padding=1, dilation=1, ceil_mode=False)\n",
       "        (4): Sequential(\n",
       "          (0): Bottleneck(\n",
       "            (conv1): Conv2d(64, 64, kernel_size=(1, 1), stride=(1, 1), bias=False)\n",
       "            (bn1): BatchNorm2d(64, eps=1e-05, momentum=0.1, affine=True, track_running_stats=True)\n",
       "            (conv2): Conv2d(64, 64, kernel_size=(3, 3), stride=(1, 1), padding=(1, 1), bias=False)\n",
       "            (bn2): BatchNorm2d(64, eps=1e-05, momentum=0.1, affine=True, track_running_stats=True)\n",
       "            (conv3): Conv2d(64, 256, kernel_size=(1, 1), stride=(1, 1), bias=False)\n",
       "            (bn3): BatchNorm2d(256, eps=1e-05, momentum=0.1, affine=True, track_running_stats=True)\n",
       "            (relu): ReLU(inplace=True)\n",
       "            (downsample): Sequential(\n",
       "              (0): Conv2d(64, 256, kernel_size=(1, 1), stride=(1, 1), bias=False)\n",
       "              (1): BatchNorm2d(256, eps=1e-05, momentum=0.1, affine=True, track_running_stats=True)\n",
       "            )\n",
       "          )\n",
       "          (1): Bottleneck(\n",
       "            (conv1): Conv2d(256, 64, kernel_size=(1, 1), stride=(1, 1), bias=False)\n",
       "            (bn1): BatchNorm2d(64, eps=1e-05, momentum=0.1, affine=True, track_running_stats=True)\n",
       "            (conv2): Conv2d(64, 64, kernel_size=(3, 3), stride=(1, 1), padding=(1, 1), bias=False)\n",
       "            (bn2): BatchNorm2d(64, eps=1e-05, momentum=0.1, affine=True, track_running_stats=True)\n",
       "            (conv3): Conv2d(64, 256, kernel_size=(1, 1), stride=(1, 1), bias=False)\n",
       "            (bn3): BatchNorm2d(256, eps=1e-05, momentum=0.1, affine=True, track_running_stats=True)\n",
       "            (relu): ReLU(inplace=True)\n",
       "          )\n",
       "          (2): Bottleneck(\n",
       "            (conv1): Conv2d(256, 64, kernel_size=(1, 1), stride=(1, 1), bias=False)\n",
       "            (bn1): BatchNorm2d(64, eps=1e-05, momentum=0.1, affine=True, track_running_stats=True)\n",
       "            (conv2): Conv2d(64, 64, kernel_size=(3, 3), stride=(1, 1), padding=(1, 1), bias=False)\n",
       "            (bn2): BatchNorm2d(64, eps=1e-05, momentum=0.1, affine=True, track_running_stats=True)\n",
       "            (conv3): Conv2d(64, 256, kernel_size=(1, 1), stride=(1, 1), bias=False)\n",
       "            (bn3): BatchNorm2d(256, eps=1e-05, momentum=0.1, affine=True, track_running_stats=True)\n",
       "            (relu): ReLU(inplace=True)\n",
       "          )\n",
       "        )\n",
       "        (5): Sequential(\n",
       "          (0): Bottleneck(\n",
       "            (conv1): Conv2d(256, 128, kernel_size=(1, 1), stride=(1, 1), bias=False)\n",
       "            (bn1): BatchNorm2d(128, eps=1e-05, momentum=0.1, affine=True, track_running_stats=True)\n",
       "            (conv2): Conv2d(128, 128, kernel_size=(3, 3), stride=(2, 2), padding=(1, 1), bias=False)\n",
       "            (bn2): BatchNorm2d(128, eps=1e-05, momentum=0.1, affine=True, track_running_stats=True)\n",
       "            (conv3): Conv2d(128, 512, kernel_size=(1, 1), stride=(1, 1), bias=False)\n",
       "            (bn3): BatchNorm2d(512, eps=1e-05, momentum=0.1, affine=True, track_running_stats=True)\n",
       "            (relu): ReLU(inplace=True)\n",
       "            (downsample): Sequential(\n",
       "              (0): Conv2d(256, 512, kernel_size=(1, 1), stride=(2, 2), bias=False)\n",
       "              (1): BatchNorm2d(512, eps=1e-05, momentum=0.1, affine=True, track_running_stats=True)\n",
       "            )\n",
       "          )\n",
       "          (1): Bottleneck(\n",
       "            (conv1): Conv2d(512, 128, kernel_size=(1, 1), stride=(1, 1), bias=False)\n",
       "            (bn1): BatchNorm2d(128, eps=1e-05, momentum=0.1, affine=True, track_running_stats=True)\n",
       "            (conv2): Conv2d(128, 128, kernel_size=(3, 3), stride=(1, 1), padding=(1, 1), bias=False)\n",
       "            (bn2): BatchNorm2d(128, eps=1e-05, momentum=0.1, affine=True, track_running_stats=True)\n",
       "            (conv3): Conv2d(128, 512, kernel_size=(1, 1), stride=(1, 1), bias=False)\n",
       "            (bn3): BatchNorm2d(512, eps=1e-05, momentum=0.1, affine=True, track_running_stats=True)\n",
       "            (relu): ReLU(inplace=True)\n",
       "          )\n",
       "          (2): Bottleneck(\n",
       "            (conv1): Conv2d(512, 128, kernel_size=(1, 1), stride=(1, 1), bias=False)\n",
       "            (bn1): BatchNorm2d(128, eps=1e-05, momentum=0.1, affine=True, track_running_stats=True)\n",
       "            (conv2): Conv2d(128, 128, kernel_size=(3, 3), stride=(1, 1), padding=(1, 1), bias=False)\n",
       "            (bn2): BatchNorm2d(128, eps=1e-05, momentum=0.1, affine=True, track_running_stats=True)\n",
       "            (conv3): Conv2d(128, 512, kernel_size=(1, 1), stride=(1, 1), bias=False)\n",
       "            (bn3): BatchNorm2d(512, eps=1e-05, momentum=0.1, affine=True, track_running_stats=True)\n",
       "            (relu): ReLU(inplace=True)\n",
       "          )\n",
       "          (3): Bottleneck(\n",
       "            (conv1): Conv2d(512, 128, kernel_size=(1, 1), stride=(1, 1), bias=False)\n",
       "            (bn1): BatchNorm2d(128, eps=1e-05, momentum=0.1, affine=True, track_running_stats=True)\n",
       "            (conv2): Conv2d(128, 128, kernel_size=(3, 3), stride=(1, 1), padding=(1, 1), bias=False)\n",
       "            (bn2): BatchNorm2d(128, eps=1e-05, momentum=0.1, affine=True, track_running_stats=True)\n",
       "            (conv3): Conv2d(128, 512, kernel_size=(1, 1), stride=(1, 1), bias=False)\n",
       "            (bn3): BatchNorm2d(512, eps=1e-05, momentum=0.1, affine=True, track_running_stats=True)\n",
       "            (relu): ReLU(inplace=True)\n",
       "          )\n",
       "        )\n",
       "        (6): Sequential(\n",
       "          (0): Bottleneck(\n",
       "            (conv1): Conv2d(512, 256, kernel_size=(1, 1), stride=(1, 1), bias=False)\n",
       "            (bn1): BatchNorm2d(256, eps=1e-05, momentum=0.1, affine=True, track_running_stats=True)\n",
       "            (conv2): Conv2d(256, 256, kernel_size=(3, 3), stride=(2, 2), padding=(1, 1), bias=False)\n",
       "            (bn2): BatchNorm2d(256, eps=1e-05, momentum=0.1, affine=True, track_running_stats=True)\n",
       "            (conv3): Conv2d(256, 1024, kernel_size=(1, 1), stride=(1, 1), bias=False)\n",
       "            (bn3): BatchNorm2d(1024, eps=1e-05, momentum=0.1, affine=True, track_running_stats=True)\n",
       "            (relu): ReLU(inplace=True)\n",
       "            (downsample): Sequential(\n",
       "              (0): Conv2d(512, 1024, kernel_size=(1, 1), stride=(2, 2), bias=False)\n",
       "              (1): BatchNorm2d(1024, eps=1e-05, momentum=0.1, affine=True, track_running_stats=True)\n",
       "            )\n",
       "          )\n",
       "          (1): Bottleneck(\n",
       "            (conv1): Conv2d(1024, 256, kernel_size=(1, 1), stride=(1, 1), bias=False)\n",
       "            (bn1): BatchNorm2d(256, eps=1e-05, momentum=0.1, affine=True, track_running_stats=True)\n",
       "            (conv2): Conv2d(256, 256, kernel_size=(3, 3), stride=(1, 1), padding=(1, 1), bias=False)\n",
       "            (bn2): BatchNorm2d(256, eps=1e-05, momentum=0.1, affine=True, track_running_stats=True)\n",
       "            (conv3): Conv2d(256, 1024, kernel_size=(1, 1), stride=(1, 1), bias=False)\n",
       "            (bn3): BatchNorm2d(1024, eps=1e-05, momentum=0.1, affine=True, track_running_stats=True)\n",
       "            (relu): ReLU(inplace=True)\n",
       "          )\n",
       "          (2): Bottleneck(\n",
       "            (conv1): Conv2d(1024, 256, kernel_size=(1, 1), stride=(1, 1), bias=False)\n",
       "            (bn1): BatchNorm2d(256, eps=1e-05, momentum=0.1, affine=True, track_running_stats=True)\n",
       "            (conv2): Conv2d(256, 256, kernel_size=(3, 3), stride=(1, 1), padding=(1, 1), bias=False)\n",
       "            (bn2): BatchNorm2d(256, eps=1e-05, momentum=0.1, affine=True, track_running_stats=True)\n",
       "            (conv3): Conv2d(256, 1024, kernel_size=(1, 1), stride=(1, 1), bias=False)\n",
       "            (bn3): BatchNorm2d(1024, eps=1e-05, momentum=0.1, affine=True, track_running_stats=True)\n",
       "            (relu): ReLU(inplace=True)\n",
       "          )\n",
       "          (3): Bottleneck(\n",
       "            (conv1): Conv2d(1024, 256, kernel_size=(1, 1), stride=(1, 1), bias=False)\n",
       "            (bn1): BatchNorm2d(256, eps=1e-05, momentum=0.1, affine=True, track_running_stats=True)\n",
       "            (conv2): Conv2d(256, 256, kernel_size=(3, 3), stride=(1, 1), padding=(1, 1), bias=False)\n",
       "            (bn2): BatchNorm2d(256, eps=1e-05, momentum=0.1, affine=True, track_running_stats=True)\n",
       "            (conv3): Conv2d(256, 1024, kernel_size=(1, 1), stride=(1, 1), bias=False)\n",
       "            (bn3): BatchNorm2d(1024, eps=1e-05, momentum=0.1, affine=True, track_running_stats=True)\n",
       "            (relu): ReLU(inplace=True)\n",
       "          )\n",
       "          (4): Bottleneck(\n",
       "            (conv1): Conv2d(1024, 256, kernel_size=(1, 1), stride=(1, 1), bias=False)\n",
       "            (bn1): BatchNorm2d(256, eps=1e-05, momentum=0.1, affine=True, track_running_stats=True)\n",
       "            (conv2): Conv2d(256, 256, kernel_size=(3, 3), stride=(1, 1), padding=(1, 1), bias=False)\n",
       "            (bn2): BatchNorm2d(256, eps=1e-05, momentum=0.1, affine=True, track_running_stats=True)\n",
       "            (conv3): Conv2d(256, 1024, kernel_size=(1, 1), stride=(1, 1), bias=False)\n",
       "            (bn3): BatchNorm2d(1024, eps=1e-05, momentum=0.1, affine=True, track_running_stats=True)\n",
       "            (relu): ReLU(inplace=True)\n",
       "          )\n",
       "          (5): Bottleneck(\n",
       "            (conv1): Conv2d(1024, 256, kernel_size=(1, 1), stride=(1, 1), bias=False)\n",
       "            (bn1): BatchNorm2d(256, eps=1e-05, momentum=0.1, affine=True, track_running_stats=True)\n",
       "            (conv2): Conv2d(256, 256, kernel_size=(3, 3), stride=(1, 1), padding=(1, 1), bias=False)\n",
       "            (bn2): BatchNorm2d(256, eps=1e-05, momentum=0.1, affine=True, track_running_stats=True)\n",
       "            (conv3): Conv2d(256, 1024, kernel_size=(1, 1), stride=(1, 1), bias=False)\n",
       "            (bn3): BatchNorm2d(1024, eps=1e-05, momentum=0.1, affine=True, track_running_stats=True)\n",
       "            (relu): ReLU(inplace=True)\n",
       "          )\n",
       "        )\n",
       "        (7): Sequential(\n",
       "          (0): Bottleneck(\n",
       "            (conv1): Conv2d(1024, 512, kernel_size=(1, 1), stride=(1, 1), bias=False)\n",
       "            (bn1): BatchNorm2d(512, eps=1e-05, momentum=0.1, affine=True, track_running_stats=True)\n",
       "            (conv2): Conv2d(512, 512, kernel_size=(3, 3), stride=(2, 2), padding=(1, 1), bias=False)\n",
       "            (bn2): BatchNorm2d(512, eps=1e-05, momentum=0.1, affine=True, track_running_stats=True)\n",
       "            (conv3): Conv2d(512, 2048, kernel_size=(1, 1), stride=(1, 1), bias=False)\n",
       "            (bn3): BatchNorm2d(2048, eps=1e-05, momentum=0.1, affine=True, track_running_stats=True)\n",
       "            (relu): ReLU(inplace=True)\n",
       "            (downsample): Sequential(\n",
       "              (0): Conv2d(1024, 2048, kernel_size=(1, 1), stride=(2, 2), bias=False)\n",
       "              (1): BatchNorm2d(2048, eps=1e-05, momentum=0.1, affine=True, track_running_stats=True)\n",
       "            )\n",
       "          )\n",
       "          (1): Bottleneck(\n",
       "            (conv1): Conv2d(2048, 512, kernel_size=(1, 1), stride=(1, 1), bias=False)\n",
       "            (bn1): BatchNorm2d(512, eps=1e-05, momentum=0.1, affine=True, track_running_stats=True)\n",
       "            (conv2): Conv2d(512, 512, kernel_size=(3, 3), stride=(1, 1), padding=(1, 1), bias=False)\n",
       "            (bn2): BatchNorm2d(512, eps=1e-05, momentum=0.1, affine=True, track_running_stats=True)\n",
       "            (conv3): Conv2d(512, 2048, kernel_size=(1, 1), stride=(1, 1), bias=False)\n",
       "            (bn3): BatchNorm2d(2048, eps=1e-05, momentum=0.1, affine=True, track_running_stats=True)\n",
       "            (relu): ReLU(inplace=True)\n",
       "          )\n",
       "          (2): Bottleneck(\n",
       "            (conv1): Conv2d(2048, 512, kernel_size=(1, 1), stride=(1, 1), bias=False)\n",
       "            (bn1): BatchNorm2d(512, eps=1e-05, momentum=0.1, affine=True, track_running_stats=True)\n",
       "            (conv2): Conv2d(512, 512, kernel_size=(3, 3), stride=(1, 1), padding=(1, 1), bias=False)\n",
       "            (bn2): BatchNorm2d(512, eps=1e-05, momentum=0.1, affine=True, track_running_stats=True)\n",
       "            (conv3): Conv2d(512, 2048, kernel_size=(1, 1), stride=(1, 1), bias=False)\n",
       "            (bn3): BatchNorm2d(2048, eps=1e-05, momentum=0.1, affine=True, track_running_stats=True)\n",
       "            (relu): ReLU(inplace=True)\n",
       "          )\n",
       "        )\n",
       "        (8): AdaptiveAvgPool2d(output_size=(1, 1))\n",
       "      )\n",
       "    )\n",
       "    (fc1): Linear(in_features=2051, out_features=4096, bias=True)\n",
       "    (fc2): Linear(in_features=4096, out_features=100, bias=True)\n",
       "  )\n",
       ")"
      ]
     },
     "execution_count": 26,
     "metadata": {},
     "output_type": "execute_result"
    }
   ],
   "source": [
    "from nuscenes.prediction.models.backbone import ResNetBackbone\n",
    "from nuscenes.prediction.models.mtp import MTP, MTPLoss\n",
    "\n",
    "backbone = ResNetBackbone('resnet50')\n",
    "model = MTP(backbone, num_modes=num_modes)\n",
    "model = torch.nn.DataParallel(model)\n",
    "\n",
    "model.load_state_dict(torch.load('./models/MTP_m4_e25_3.87.pth'))\n",
    "model = model.to(device)\n",
    "\n",
    "loss_function = MTPLoss(num_modes)\n",
    "model"
   ]
  },
  {
   "cell_type": "code",
   "execution_count": 27,
   "metadata": {},
   "outputs": [],
   "source": [
    "from torch.optim import Adam\n",
    "\n",
    "# Pass to optimizer only params with requires_grad\n",
    "params_to_update = []\n",
    "\n",
    "for name,param in model.named_parameters():\n",
    "    if param.requires_grad == True:\n",
    "        params_to_update.append(param)"
   ]
  },
  {
   "cell_type": "code",
   "execution_count": 28,
   "metadata": {},
   "outputs": [],
   "source": [
    "from torch.optim import Adam\n",
    "from torch.optim.lr_scheduler import ExponentialLR, StepLR, ReduceLROnPlateau\n",
    "\n",
    "optimizer = Adam(params_to_update, lr=lr, weight_decay=5e-4)\n",
    "#scheduler_exp = ExponentialLR(optimizer, gamma=0.9)\n",
    "scheduler_exp = StepLR(optimizer, step_size=5, gamma=0.9)\n",
    "\n",
    "scheduler_onPlateau = ReduceLROnPlateau(optimizer, 'min')"
   ]
  },
  {
   "cell_type": "code",
   "execution_count": 29,
   "metadata": {},
   "outputs": [],
   "source": [
    "import os\n",
    "\n",
    "# Create folder for all models\n",
    "dir = os.path.join('./models')\n",
    "if not os.path.exists(dir):\n",
    "    os.mkdir(dir)"
   ]
  },
  {
   "cell_type": "code",
   "execution_count": 30,
   "metadata": {},
   "outputs": [],
   "source": [
    "import nuscenes.eval.prediction.metrics as metrics\n",
    "from collections import defaultdict\n",
    "from typing import List, Dict, Any\n",
    "\n",
    "\n",
    "def GetPrediction(model, instance_token, sample_token, img, state):\n",
    "\n",
    "    img = img.unsqueeze(0).to(device)\n",
    "    state = state.unsqueeze(0).to(device)\n",
    "\n",
    "    predict = model(img, state)\n",
    "    predict = predict[0]\n",
    "\n",
    "    trajectories_set = predict[:len(predict) - config.num_modes]\n",
    "    trajectories_set = trajectories_set.reshape(config.num_modes, 12, 2)\n",
    "        \n",
    "    mode_probabilities = predict[-config.num_modes:]\n",
    "\n",
    "    sorted_logits_indexes = mode_probabilities.argsort(descending=True)\n",
    "    sorted_trajectories = trajectories_set[sorted_logits_indexes]\n",
    "    \n",
    "    mode_probabilities = mode_probabilities.cpu().detach().numpy()\n",
    "    sorted_trajectories = sorted_trajectories.cpu().detach().numpy()\n",
    "    \n",
    "    top_trajectories = sorted_trajectories[:10]\n",
    "    top_probabilities = mode_probabilities[:10]\n",
    "    \n",
    "    # Prediction contains more than 25 modes. \n",
    "    prediction = metrics.Prediction(instance_token, sample_token, top_trajectories, top_probabilities)\n",
    "\n",
    "    return prediction\n",
    "\n",
    "\n",
    "def GetMetrics(model, valid_ds, valid_samples):\n",
    "    \n",
    "    # Define metrics function and container\n",
    "    metric_functions = [metrics.MinFDEK([1, 5], aggregators=[metrics.RowMean()]),\n",
    "                        metrics.MinADEK([1, 5, 10], aggregators=[metrics.RowMean()]),\n",
    "                        metrics.MissRateTopK([5, 10], tolerance=2, aggregators=[metrics.RowMean()])]\n",
    "\n",
    "    num_predictions = len(valid_ds) # Amount of prediction rows (equals of len of validation)\n",
    "    metrics_container = {metric.name: np.zeros((num_predictions, metric.shape)) for metric in metric_functions}\n",
    "    \n",
    "    # Prediction loop\n",
    "    for idx in tqdm(range(len(valid_ds))):\n",
    "        feature, state, ground_truth = valid_ds[idx]\n",
    "        instance_tkn, sample_tkn = valid_samples[idx].split(\"_\")\n",
    "                        \n",
    "        # Make prediction\n",
    "        prediction = GetPrediction(model, instance_tkn, sample_tkn, feature, state)\n",
    "        \n",
    "        # Get ground_truth\n",
    "        gt = ground_truth.reshape((12, 2))\n",
    "\n",
    "        # Calculate metrics\n",
    "        for metric in metric_functions:\n",
    "            metrics_container[metric.name][idx] = metric(gt, prediction)\n",
    "    \n",
    "    # Metrics aggregations\n",
    "    aggregations: Dict[str, Dict[str, List[float]]] = defaultdict(dict)\n",
    "\n",
    "    for metric in metric_functions:\n",
    "        for agg in metric.aggregators:\n",
    "            aggregations[metric.name][agg.name] = agg(metrics_container[metric.name])\n",
    "\n",
    "    return aggregations"
   ]
  },
  {
   "cell_type": "code",
   "execution_count": 31,
   "metadata": {},
   "outputs": [],
   "source": [
    "from tqdm import tqdm\n",
    "import time\n",
    "\n",
    "def loss_batch(model, loss_func, img, state_vec, ground_truth, opt=None):\n",
    "    img = img.to(device)\n",
    "    state_vec = state_vec.to(device)\n",
    "    ground_truth = ground_truth.to(device)\n",
    "        \n",
    "    predicted_logits = model(img, state_vec)\n",
    "    loss = loss_func(predicted_logits, ground_truth)\n",
    "\n",
    "    # For validation optimizer is None, thus we dont perform backprop\n",
    "    if opt is not None:\n",
    "        loss.backward()\n",
    "        opt.step()\n",
    "        opt.zero_grad()\n",
    "\n",
    "    # Return losses and amount of items\n",
    "    #print(f\"{loss.item()}; {len(img)}\")\n",
    "    return loss.item(), len(img)\n",
    "\n",
    "\n",
    "def train_step(model, train_dl, loss_func, opt):\n",
    "    model.train()\n",
    "\n",
    "    losses = []\n",
    "    nums = []\n",
    "    for img, state_vec, gt in tqdm(train_dl):\n",
    "        loss, num = loss_batch(model, loss_func, img, state_vec, gt, opt)\n",
    "        losses.append(loss)\n",
    "        nums.append(num)\n",
    "        \n",
    "    # Calculate train loss\n",
    "    train_loss = np.sum(np.multiply(losses, nums)) / np.sum(nums)\n",
    "    return train_loss\n",
    "\n",
    "\n",
    "def validation_step(model, valid_dl, loss_func):\n",
    "    tqdm.write(\"Validation step\")\n",
    "    time.sleep(0.5)\n",
    "    \n",
    "    model.eval()\n",
    "\n",
    "    with torch.no_grad():\n",
    "        losses = []\n",
    "        nums = []\n",
    "        for img, state_vec, gt in tqdm(valid_dl):\n",
    "            loss, num = loss_batch(model, loss_func, img, state_vec, gt)\n",
    "            losses.append(loss)\n",
    "            nums.append(num)\n",
    "        \n",
    "        # Calculate validation loss\n",
    "        val_loss = np.sum(np.multiply(losses, nums)) / np.sum(nums)\n",
    "        \n",
    "        scheduler_exp.step()\n",
    "        scheduler_onPlateau.step(val_loss)\n",
    "        \n",
    "    return val_loss\n",
    "\n",
    "\n",
    "def log_metrics(model, valid_ds, valid_samples, start_epoch_time, best_loss, train_loss, val_loss):\n",
    "\n",
    "    # Calculate metrics on validation set\n",
    "    tqdm.write(\"Calculate metrics:\")\n",
    "    time.sleep(0.5)\n",
    "    \n",
    "#     metricsRes = GetMetrics(model, valid_ds, valid_samples)\n",
    "    \n",
    "#     minFDE_1 = metricsRes['MinFDEK']['RowMean'][0]\n",
    "#     minFDE_5 = metricsRes['MinFDEK']['RowMean'][1]\n",
    "#     minADEK_1 = metricsRes['MinADEK']['RowMean'][0]\n",
    "#     minADEK_5 = metricsRes['MinADEK']['RowMean'][1]\n",
    "#     minADEK_10 = metricsRes['MinADEK']['RowMean'][2]\n",
    "#     missRateTopK2_5 = metricsRes['MissRateTopK_2']['RowMean'][0]\n",
    "#     missRateTopK2_10 = metricsRes['MissRateTopK_2']['RowMean'][1]    \n",
    "\n",
    "#     wandb.log({'Train loss': train_loss,\n",
    "#                'Val loss': val_loss,\n",
    "#                'Learning_rate': scheduler_exp.get_last_lr()[0],\n",
    "#                'minFDE_1': minFDE_1,\n",
    "#                'minFDE_5': minFDE_5,\n",
    "#                'min_ADEK_1': minADEK_1,\n",
    "#                'minADEK_5': minADEK_5,\n",
    "#                'minADEK_10': minADEK_10,\n",
    "#                'missRateTopK2_5':missRateTopK2_5,\n",
    "#                'missRateTopK2_10':missRateTopK2_10\n",
    "#               })\n",
    "        \n",
    "    print(f\"Epoch {current_epoch + 1}; Train loss: {train_loss:0.2f}; Val loss: {val_loss:0.2f}; Best VL: {best_loss:0.2f}; Time: {(time.time() - start_epoch_time):0.2f} sec;\")"
   ]
  },
  {
   "cell_type": "code",
   "execution_count": 32,
   "metadata": {},
   "outputs": [],
   "source": [
    "import copy\n",
    "\n",
    "current_epoch = 0\n",
    "best_model_wts = copy.deepcopy(model.state_dict())\n",
    "\n",
    "def fit(epochs, model, loss_func, opt, train_dl, valid_dl, valid_ds, valid_samples):\n",
    "    global current_epoch\n",
    "    global best_model_wts\n",
    "    \n",
    "    best_loss = 999.0\n",
    "\n",
    "    for epoch in range(epochs):\n",
    "        start_epoch_time = time.time()\n",
    "        tqdm.write('-' * 30)\n",
    "        tqdm.write(f'Epoch: {epoch + 1}/{epochs}')\n",
    "        time.sleep(0.5)\n",
    "        \n",
    "        train_loss = train_step(model, train_dl, loss_func, opt)        \n",
    "        val_loss = validation_step(model, valid_dl, loss_func)  \n",
    "        \n",
    "        # deep copy the model\n",
    "        if val_loss < best_loss:\n",
    "            best_loss = val_loss\n",
    "            best_model_wts = copy.deepcopy(model.state_dict())\n",
    "\n",
    "        log_metrics(model, valid_ds, valid_samples, start_epoch_time, best_loss, train_loss, val_loss)\n",
    "            \n",
    "        torch.save(copy.deepcopy(model.state_dict()), f'./Models/norm_MTP_m4_e{current_epoch}_{best_loss:0.2f}.pth')\n",
    "        current_epoch += 1"
   ]
  },
  {
   "cell_type": "code",
   "execution_count": 33,
   "metadata": {},
   "outputs": [
    {
     "name": "stdout",
     "output_type": "stream",
     "text": [
      "------------------------------\n",
      "Epoch: 1/32\n"
     ]
    },
    {
     "name": "stderr",
     "output_type": "stream",
     "text": [
      "  0%|          | 0/100 [17:07<?, ?it/s]\n"
     ]
    },
    {
     "ename": "KeyboardInterrupt",
     "evalue": "",
     "output_type": "error",
     "traceback": [
      "\u001B[1;31m---------------------------------------------------------------------------\u001B[0m",
      "\u001B[1;31mKeyboardInterrupt\u001B[0m                         Traceback (most recent call last)",
      "\u001B[1;32m<ipython-input-33-a921903233a1>\u001B[0m in \u001B[0;36m<module>\u001B[1;34m\u001B[0m\n\u001B[0;32m      1\u001B[0m \u001B[1;31m# pydev_debug_cell\u001B[0m\u001B[1;33m\u001B[0m\u001B[1;33m\u001B[0m\u001B[1;33m\u001B[0m\u001B[0m\n\u001B[1;32m----> 2\u001B[1;33m \u001B[0mfit\u001B[0m\u001B[1;33m(\u001B[0m\u001B[0mepoch\u001B[0m\u001B[1;33m,\u001B[0m \u001B[0mmodel\u001B[0m\u001B[1;33m,\u001B[0m \u001B[0mloss_function\u001B[0m\u001B[1;33m,\u001B[0m \u001B[0moptimizer\u001B[0m\u001B[1;33m,\u001B[0m \u001B[0mtrain_dl\u001B[0m\u001B[1;33m,\u001B[0m \u001B[0mvalidation_dl\u001B[0m\u001B[1;33m,\u001B[0m \u001B[0mvalidation_ds\u001B[0m\u001B[1;33m,\u001B[0m \u001B[0mvalid_samples\u001B[0m\u001B[1;33m)\u001B[0m\u001B[1;33m\u001B[0m\u001B[1;33m\u001B[0m\u001B[0m\n\u001B[0m\u001B[0;32m      3\u001B[0m \u001B[1;33m\u001B[0m\u001B[0m\n",
      "\u001B[1;32m<ipython-input-32-088538bbbf15>\u001B[0m in \u001B[0;36mfit\u001B[1;34m(epochs, model, loss_func, opt, train_dl, valid_dl, valid_ds, valid_samples)\u001B[0m\n\u001B[0;32m     16\u001B[0m         \u001B[0mtime\u001B[0m\u001B[1;33m.\u001B[0m\u001B[0msleep\u001B[0m\u001B[1;33m(\u001B[0m\u001B[1;36m0.5\u001B[0m\u001B[1;33m)\u001B[0m\u001B[1;33m\u001B[0m\u001B[1;33m\u001B[0m\u001B[0m\n\u001B[0;32m     17\u001B[0m \u001B[1;33m\u001B[0m\u001B[0m\n\u001B[1;32m---> 18\u001B[1;33m         \u001B[0mtrain_loss\u001B[0m \u001B[1;33m=\u001B[0m \u001B[0mtrain_step\u001B[0m\u001B[1;33m(\u001B[0m\u001B[0mmodel\u001B[0m\u001B[1;33m,\u001B[0m \u001B[0mtrain_dl\u001B[0m\u001B[1;33m,\u001B[0m \u001B[0mloss_func\u001B[0m\u001B[1;33m,\u001B[0m \u001B[0mopt\u001B[0m\u001B[1;33m)\u001B[0m\u001B[1;33m\u001B[0m\u001B[1;33m\u001B[0m\u001B[0m\n\u001B[0m\u001B[0;32m     19\u001B[0m         \u001B[0mval_loss\u001B[0m \u001B[1;33m=\u001B[0m \u001B[0mvalidation_step\u001B[0m\u001B[1;33m(\u001B[0m\u001B[0mmodel\u001B[0m\u001B[1;33m,\u001B[0m \u001B[0mvalid_dl\u001B[0m\u001B[1;33m,\u001B[0m \u001B[0mloss_func\u001B[0m\u001B[1;33m)\u001B[0m\u001B[1;33m\u001B[0m\u001B[1;33m\u001B[0m\u001B[0m\n\u001B[0;32m     20\u001B[0m \u001B[1;33m\u001B[0m\u001B[0m\n",
      "\u001B[1;32m<ipython-input-31-e9d2c1451700>\u001B[0m in \u001B[0;36mtrain_step\u001B[1;34m(model, train_dl, loss_func, opt)\u001B[0m\n\u001B[0;32m     27\u001B[0m     \u001B[0mnums\u001B[0m \u001B[1;33m=\u001B[0m \u001B[1;33m[\u001B[0m\u001B[1;33m]\u001B[0m\u001B[1;33m\u001B[0m\u001B[1;33m\u001B[0m\u001B[0m\n\u001B[0;32m     28\u001B[0m     \u001B[1;32mfor\u001B[0m \u001B[0mimg\u001B[0m\u001B[1;33m,\u001B[0m \u001B[0mstate_vec\u001B[0m\u001B[1;33m,\u001B[0m \u001B[0mgt\u001B[0m \u001B[1;32min\u001B[0m \u001B[0mtqdm\u001B[0m\u001B[1;33m(\u001B[0m\u001B[0mtrain_dl\u001B[0m\u001B[1;33m)\u001B[0m\u001B[1;33m:\u001B[0m\u001B[1;33m\u001B[0m\u001B[1;33m\u001B[0m\u001B[0m\n\u001B[1;32m---> 29\u001B[1;33m         \u001B[0mloss\u001B[0m\u001B[1;33m,\u001B[0m \u001B[0mnum\u001B[0m \u001B[1;33m=\u001B[0m \u001B[0mloss_batch\u001B[0m\u001B[1;33m(\u001B[0m\u001B[0mmodel\u001B[0m\u001B[1;33m,\u001B[0m \u001B[0mloss_func\u001B[0m\u001B[1;33m,\u001B[0m \u001B[0mimg\u001B[0m\u001B[1;33m,\u001B[0m \u001B[0mstate_vec\u001B[0m\u001B[1;33m,\u001B[0m \u001B[0mgt\u001B[0m\u001B[1;33m,\u001B[0m \u001B[0mopt\u001B[0m\u001B[1;33m)\u001B[0m\u001B[1;33m\u001B[0m\u001B[1;33m\u001B[0m\u001B[0m\n\u001B[0m\u001B[0;32m     30\u001B[0m         \u001B[0mlosses\u001B[0m\u001B[1;33m.\u001B[0m\u001B[0mappend\u001B[0m\u001B[1;33m(\u001B[0m\u001B[0mloss\u001B[0m\u001B[1;33m)\u001B[0m\u001B[1;33m\u001B[0m\u001B[1;33m\u001B[0m\u001B[0m\n\u001B[0;32m     31\u001B[0m         \u001B[0mnums\u001B[0m\u001B[1;33m.\u001B[0m\u001B[0mappend\u001B[0m\u001B[1;33m(\u001B[0m\u001B[0mnum\u001B[0m\u001B[1;33m)\u001B[0m\u001B[1;33m\u001B[0m\u001B[1;33m\u001B[0m\u001B[0m\n",
      "\u001B[1;32m<ipython-input-31-e9d2c1451700>\u001B[0m in \u001B[0;36mloss_batch\u001B[1;34m(model, loss_func, img, state_vec, ground_truth, opt)\u001B[0m\n\u001B[0;32m      8\u001B[0m \u001B[1;33m\u001B[0m\u001B[0m\n\u001B[0;32m      9\u001B[0m     \u001B[0mpredicted_logits\u001B[0m \u001B[1;33m=\u001B[0m \u001B[0mmodel\u001B[0m\u001B[1;33m(\u001B[0m\u001B[0mimg\u001B[0m\u001B[1;33m,\u001B[0m \u001B[0mstate_vec\u001B[0m\u001B[1;33m)\u001B[0m\u001B[1;33m\u001B[0m\u001B[1;33m\u001B[0m\u001B[0m\n\u001B[1;32m---> 10\u001B[1;33m     \u001B[0mloss\u001B[0m \u001B[1;33m=\u001B[0m \u001B[0mloss_func\u001B[0m\u001B[1;33m(\u001B[0m\u001B[0mpredicted_logits\u001B[0m\u001B[1;33m,\u001B[0m \u001B[0mground_truth\u001B[0m\u001B[1;33m)\u001B[0m\u001B[1;33m\u001B[0m\u001B[1;33m\u001B[0m\u001B[0m\n\u001B[0m\u001B[0;32m     11\u001B[0m \u001B[1;33m\u001B[0m\u001B[0m\n\u001B[0;32m     12\u001B[0m     \u001B[1;31m# For validation optimizer is None, thus we dont perform backprop\u001B[0m\u001B[1;33m\u001B[0m\u001B[1;33m\u001B[0m\u001B[1;33m\u001B[0m\u001B[0m\n",
      "\u001B[1;32m~\\.anaconda3\\lib\\site-packages\\nuscenes\\prediction\\models\\mtp.py\u001B[0m in \u001B[0;36m__call__\u001B[1;34m(self, predictions, targets)\u001B[0m\n\u001B[0;32m    236\u001B[0m         \"\"\"\n\u001B[0;32m    237\u001B[0m \u001B[1;33m\u001B[0m\u001B[0m\n\u001B[1;32m--> 238\u001B[1;33m         \u001B[0mbatch_losses\u001B[0m \u001B[1;33m=\u001B[0m \u001B[0mtorch\u001B[0m\u001B[1;33m.\u001B[0m\u001B[0mTensor\u001B[0m\u001B[1;33m(\u001B[0m\u001B[1;33m)\u001B[0m\u001B[1;33m.\u001B[0m\u001B[0mrequires_grad_\u001B[0m\u001B[1;33m(\u001B[0m\u001B[1;32mTrue\u001B[0m\u001B[1;33m)\u001B[0m\u001B[1;33m.\u001B[0m\u001B[0mto\u001B[0m\u001B[1;33m(\u001B[0m\u001B[0mpredictions\u001B[0m\u001B[1;33m.\u001B[0m\u001B[0mdevice\u001B[0m\u001B[1;33m)\u001B[0m\u001B[1;33m\u001B[0m\u001B[1;33m\u001B[0m\u001B[0m\n\u001B[0m\u001B[0;32m    239\u001B[0m         \u001B[0mtrajectories\u001B[0m\u001B[1;33m,\u001B[0m \u001B[0mmodes\u001B[0m \u001B[1;33m=\u001B[0m \u001B[0mself\u001B[0m\u001B[1;33m.\u001B[0m\u001B[0m_get_trajectory_and_modes\u001B[0m\u001B[1;33m(\u001B[0m\u001B[0mpredictions\u001B[0m\u001B[1;33m)\u001B[0m\u001B[1;33m\u001B[0m\u001B[1;33m\u001B[0m\u001B[0m\n\u001B[0;32m    240\u001B[0m \u001B[1;33m\u001B[0m\u001B[0m\n",
      "\u001B[1;32m~\\.anaconda3\\lib\\site-packages\\nuscenes\\prediction\\models\\mtp.py\u001B[0m in \u001B[0;36m__call__\u001B[1;34m(self, predictions, targets)\u001B[0m\n\u001B[0;32m    236\u001B[0m         \"\"\"\n\u001B[0;32m    237\u001B[0m \u001B[1;33m\u001B[0m\u001B[0m\n\u001B[1;32m--> 238\u001B[1;33m         \u001B[0mbatch_losses\u001B[0m \u001B[1;33m=\u001B[0m \u001B[0mtorch\u001B[0m\u001B[1;33m.\u001B[0m\u001B[0mTensor\u001B[0m\u001B[1;33m(\u001B[0m\u001B[1;33m)\u001B[0m\u001B[1;33m.\u001B[0m\u001B[0mrequires_grad_\u001B[0m\u001B[1;33m(\u001B[0m\u001B[1;32mTrue\u001B[0m\u001B[1;33m)\u001B[0m\u001B[1;33m.\u001B[0m\u001B[0mto\u001B[0m\u001B[1;33m(\u001B[0m\u001B[0mpredictions\u001B[0m\u001B[1;33m.\u001B[0m\u001B[0mdevice\u001B[0m\u001B[1;33m)\u001B[0m\u001B[1;33m\u001B[0m\u001B[1;33m\u001B[0m\u001B[0m\n\u001B[0m\u001B[0;32m    239\u001B[0m         \u001B[0mtrajectories\u001B[0m\u001B[1;33m,\u001B[0m \u001B[0mmodes\u001B[0m \u001B[1;33m=\u001B[0m \u001B[0mself\u001B[0m\u001B[1;33m.\u001B[0m\u001B[0m_get_trajectory_and_modes\u001B[0m\u001B[1;33m(\u001B[0m\u001B[0mpredictions\u001B[0m\u001B[1;33m)\u001B[0m\u001B[1;33m\u001B[0m\u001B[1;33m\u001B[0m\u001B[0m\n\u001B[0;32m    240\u001B[0m \u001B[1;33m\u001B[0m\u001B[0m\n",
      "\u001B[1;32m_pydevd_bundle\\pydevd_cython_win32_38_64.pyx\u001B[0m in \u001B[0;36m_pydevd_bundle.pydevd_cython_win32_38_64.ThreadTracer.__call__\u001B[1;34m()\u001B[0m\n",
      "\u001B[1;32m_pydevd_bundle\\pydevd_cython_win32_38_64.pyx\u001B[0m in \u001B[0;36m_pydevd_bundle.pydevd_cython_win32_38_64.PyDBFrame.trace_dispatch\u001B[1;34m()\u001B[0m\n",
      "\u001B[1;32m_pydevd_bundle\\pydevd_cython_win32_38_64.pyx\u001B[0m in \u001B[0;36m_pydevd_bundle.pydevd_cython_win32_38_64.PyDBFrame.trace_dispatch\u001B[1;34m()\u001B[0m\n",
      "\u001B[1;32m_pydevd_bundle\\pydevd_cython_win32_38_64.pyx\u001B[0m in \u001B[0;36m_pydevd_bundle.pydevd_cython_win32_38_64.PyDBFrame.do_wait_suspend\u001B[1;34m()\u001B[0m\n",
      "\u001B[1;32mC:\\Program Files\\PyCharm 2020.3.3\\plugins\\python\\helpers\\pydev\\pydevd.py\u001B[0m in \u001B[0;36mdo_wait_suspend\u001B[1;34m(self, thread, frame, event, arg, send_suspend_message, is_unhandled_exception)\u001B[0m\n\u001B[0;32m   1139\u001B[0m \u001B[1;33m\u001B[0m\u001B[0m\n\u001B[0;32m   1140\u001B[0m         \u001B[1;32mwith\u001B[0m \u001B[0mself\u001B[0m\u001B[1;33m.\u001B[0m\u001B[0m_threads_suspended_single_notification\u001B[0m\u001B[1;33m.\u001B[0m\u001B[0mnotify_thread_suspended\u001B[0m\u001B[1;33m(\u001B[0m\u001B[0mthread_id\u001B[0m\u001B[1;33m,\u001B[0m \u001B[0mstop_reason\u001B[0m\u001B[1;33m)\u001B[0m\u001B[1;33m:\u001B[0m\u001B[1;33m\u001B[0m\u001B[1;33m\u001B[0m\u001B[0m\n\u001B[1;32m-> 1141\u001B[1;33m             \u001B[0mself\u001B[0m\u001B[1;33m.\u001B[0m\u001B[0m_do_wait_suspend\u001B[0m\u001B[1;33m(\u001B[0m\u001B[0mthread\u001B[0m\u001B[1;33m,\u001B[0m \u001B[0mframe\u001B[0m\u001B[1;33m,\u001B[0m \u001B[0mevent\u001B[0m\u001B[1;33m,\u001B[0m \u001B[0marg\u001B[0m\u001B[1;33m,\u001B[0m \u001B[0msuspend_type\u001B[0m\u001B[1;33m,\u001B[0m \u001B[0mfrom_this_thread\u001B[0m\u001B[1;33m)\u001B[0m\u001B[1;33m\u001B[0m\u001B[1;33m\u001B[0m\u001B[0m\n\u001B[0m\u001B[0;32m   1142\u001B[0m \u001B[1;33m\u001B[0m\u001B[0m\n\u001B[0;32m   1143\u001B[0m     \u001B[1;32mdef\u001B[0m \u001B[0m_do_wait_suspend\u001B[0m\u001B[1;33m(\u001B[0m\u001B[0mself\u001B[0m\u001B[1;33m,\u001B[0m \u001B[0mthread\u001B[0m\u001B[1;33m,\u001B[0m \u001B[0mframe\u001B[0m\u001B[1;33m,\u001B[0m \u001B[0mevent\u001B[0m\u001B[1;33m,\u001B[0m \u001B[0marg\u001B[0m\u001B[1;33m,\u001B[0m \u001B[0msuspend_type\u001B[0m\u001B[1;33m,\u001B[0m \u001B[0mfrom_this_thread\u001B[0m\u001B[1;33m)\u001B[0m\u001B[1;33m:\u001B[0m\u001B[1;33m\u001B[0m\u001B[1;33m\u001B[0m\u001B[0m\n",
      "\u001B[1;32mC:\\Program Files\\PyCharm 2020.3.3\\plugins\\python\\helpers\\pydev\\pydevd.py\u001B[0m in \u001B[0;36m_do_wait_suspend\u001B[1;34m(self, thread, frame, event, arg, suspend_type, from_this_thread)\u001B[0m\n\u001B[0;32m   1154\u001B[0m \u001B[1;33m\u001B[0m\u001B[0m\n\u001B[0;32m   1155\u001B[0m                 \u001B[0mself\u001B[0m\u001B[1;33m.\u001B[0m\u001B[0mprocess_internal_commands\u001B[0m\u001B[1;33m(\u001B[0m\u001B[1;33m)\u001B[0m\u001B[1;33m\u001B[0m\u001B[1;33m\u001B[0m\u001B[0m\n\u001B[1;32m-> 1156\u001B[1;33m                 \u001B[0mtime\u001B[0m\u001B[1;33m.\u001B[0m\u001B[0msleep\u001B[0m\u001B[1;33m(\u001B[0m\u001B[1;36m0.01\u001B[0m\u001B[1;33m)\u001B[0m\u001B[1;33m\u001B[0m\u001B[1;33m\u001B[0m\u001B[0m\n\u001B[0m\u001B[0;32m   1157\u001B[0m \u001B[1;33m\u001B[0m\u001B[0m\n\u001B[0;32m   1158\u001B[0m         \u001B[0mself\u001B[0m\u001B[1;33m.\u001B[0m\u001B[0mcancel_async_evaluation\u001B[0m\u001B[1;33m(\u001B[0m\u001B[0mget_current_thread_id\u001B[0m\u001B[1;33m(\u001B[0m\u001B[0mthread\u001B[0m\u001B[1;33m)\u001B[0m\u001B[1;33m,\u001B[0m \u001B[0mstr\u001B[0m\u001B[1;33m(\u001B[0m\u001B[0mid\u001B[0m\u001B[1;33m(\u001B[0m\u001B[0mframe\u001B[0m\u001B[1;33m)\u001B[0m\u001B[1;33m)\u001B[0m\u001B[1;33m)\u001B[0m\u001B[1;33m\u001B[0m\u001B[1;33m\u001B[0m\u001B[0m\n",
      "\u001B[1;31mKeyboardInterrupt\u001B[0m: "
     ]
    }
   ],
   "source": [
    "fit(epoch, model, loss_function, optimizer, train_dl, validation_dl, validation_ds, valid_samples)"
   ]
  },
  {
   "cell_type": "code",
   "execution_count": 47,
   "metadata": {},
   "outputs": [],
   "source": [
    "# optimizer.param_groups[0]['lr'] = 1e-5\n",
    "# scheduler_exp = StepLR(optimizer, step_size=4, gamma=0.9)"
   ]
  },
  {
   "cell_type": "code",
   "execution_count": null,
   "metadata": {},
   "outputs": [],
   "source": []
  }
 ],
 "metadata": {
  "kernelspec": {
   "display_name": "Python 3",
   "language": "python",
   "name": "python3"
  },
  "language_info": {
   "codemirror_mode": {
    "name": "ipython",
    "version": 3
   },
   "file_extension": ".py",
   "mimetype": "text/x-python",
   "name": "python",
   "nbconvert_exporter": "python",
   "pygments_lexer": "ipython3",
   "version": "3.8.3"
  }
 },
 "nbformat": 4,
 "nbformat_minor": 4
}