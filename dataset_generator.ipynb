{
 "cells": [
  {
   "cell_type": "code",
   "execution_count": 1,
   "id": "ffef3393",
   "metadata": {},
   "outputs": [
    {
     "name": "stdout",
     "output_type": "stream",
     "text": [
      "Cuda available: True\n",
      "Running on: cuda:0, Device count: 2\n"
     ]
    }
   ],
   "source": [
    "import torch\n",
    "import numpy as np\n",
    "\n",
    "print(f'Cuda available: {torch.cuda.is_available()}')\n",
    "\n",
    "device = torch.device('cuda:0' if torch.cuda.is_available() else 'cpu')\n",
    "print(f'Running on: {device}, Device count: {torch.cuda.device_count()}')"
   ]
  },
  {
   "cell_type": "markdown",
   "id": "6b37544e",
   "metadata": {},
   "source": [
    "#### Init dataset"
   ]
  },
  {
   "cell_type": "code",
   "execution_count": 2,
   "id": "18e5a7e3",
   "metadata": {},
   "outputs": [],
   "source": [
    "from nuscenes import NuScenes\n",
    "from custom_prediction.helper import PredictHelper"
   ]
  },
  {
   "cell_type": "code",
   "execution_count": 3,
   "id": "f7fb2416",
   "metadata": {},
   "outputs": [],
   "source": [
    "# This is the path where you stored your copy of the nuScenes dataset.\n",
    "DATAROOT = 'D:/ThesisProjects/nuScenes_dataset/'\n",
    "\n",
    "nusc = NuScenes('v1.0-trainval', dataroot=DATAROOT, verbose=False)"
   ]
  },
  {
   "cell_type": "code",
   "execution_count": 4,
   "id": "c2bbe4bb",
   "metadata": {},
   "outputs": [],
   "source": [
    "helper = PredictHelper(nusc)"
   ]
  },
  {
   "cell_type": "code",
   "execution_count": 5,
   "id": "0454b216",
   "metadata": {},
   "outputs": [
    {
     "name": "stdout",
     "output_type": "stream",
     "text": [
      "train/val/test: (32186, 8560, 9041)\n"
     ]
    },
    {
     "data": {
      "text/plain": [
       "['4d87aaf2d82549969f1550607ef46a63_faf2ea71b30941329a3c3f3866cec714',\n",
       " '4d87aaf2d82549969f1550607ef46a63_fa3f3d82b2b94da39f67bffc4e16d5db',\n",
       " '4d87aaf2d82549969f1550607ef46a63_903f32e4fd8247de8f20aa989e157b2a',\n",
       " '4d87aaf2d82549969f1550607ef46a63_ab44d8e463d54d0ebb18eb66bbc1e5eb',\n",
       " '4d87aaf2d82549969f1550607ef46a63_cc5951ca9cb240d5a7a0738fdec37634']"
      ]
     },
     "execution_count": 5,
     "metadata": {},
     "output_type": "execute_result"
    }
   ],
   "source": [
    "from nuscenes.eval.prediction.splits import get_prediction_challenge_split\n",
    "\n",
    "train = get_prediction_challenge_split(\"train\", dataroot=DATAROOT)\n",
    "validation = get_prediction_challenge_split(\"train_val\", dataroot=DATAROOT)\n",
    "test = get_prediction_challenge_split(\"val\", dataroot=DATAROOT)\n",
    "\n",
    "print(f'train/val/test: {len(train), len(validation), len(test)}')\n",
    "train[:5]"
   ]
  },
  {
   "cell_type": "code",
   "execution_count": 6,
   "id": "450874bf",
   "metadata": {},
   "outputs": [],
   "source": [
    "# instance_token, sample_token = train[480].split(\"_\")\n",
    "instance_token, sample_token = train[0].split(\"_\")"
   ]
  },
  {
   "cell_type": "code",
   "execution_count": 7,
   "id": "db5f7e51",
   "metadata": {},
   "outputs": [],
   "source": [
    "history_length = 2\n",
    "prediction_length = 6"
   ]
  },
  {
   "cell_type": "markdown",
   "id": "32fb6a68",
   "metadata": {},
   "source": [
    "#### Image saver"
   ]
  },
  {
   "cell_type": "code",
   "execution_count": 8,
   "id": "53b500c5",
   "metadata": {},
   "outputs": [],
   "source": [
    "from custom_prediction.custom_input_representation.static_layers import StaticLayerRasterizer\n",
    "from custom_prediction.custom_input_representation.agents import AgentBoxesWithFadedHistory, AgentBoxesWithFutureTrajectory\n",
    "from custom_prediction.custom_input_representation.interface import InputRepresentation\n",
    "from custom_prediction.custom_input_representation.combinators import Rasterizer\n",
    "\n",
    "from typing import Dict\n",
    "\n",
    "def generate_input_representation(instance_token, sample_token):\n",
    "    #TODO: Move class initialization away from method\n",
    "    static_layer_rasterizer = StaticLayerRasterizer(helper)\n",
    "    agent_rasterizer = AgentBoxesWithFadedHistory(helper, seconds_of_history=1)\n",
    "\n",
    "    mtp_input_representation = InputRepresentation(static_layer_rasterizer, agent_rasterizer, Rasterizer())\n",
    "\n",
    "    img = mtp_input_representation.make_input_representation(instance_token, sample_token)\n",
    "\n",
    "    return img"
   ]
  },
  {
   "cell_type": "code",
   "execution_count": 9,
   "id": "e8cc8409",
   "metadata": {},
   "outputs": [],
   "source": [
    "import matplotlib.pyplot as plt\n",
    "\n",
    "def show_img(img, size=4):\n",
    "    plt.figure(figsize=(size, size))\n",
    "    plt.axis('off')\n",
    "    plt.imshow(img)\n",
    "    plt.show()"
   ]
  },
  {
   "cell_type": "code",
   "execution_count": 10,
   "id": "53bc7857",
   "metadata": {},
   "outputs": [
    {
     "name": "stdout",
     "output_type": "stream",
     "text": [
      "Gen time: 1.008 sec; shape: (500, 500, 3)\n"
     ]
    },
    {
     "data": {
      "image/png": "[encoded data removed]",
      "text/plain": [
       "<Figure size 288x288 with 1 Axes>"
      ]
     },
     "metadata": {},
     "output_type": "display_data"
    }
   ],
   "source": [
    "import time\n",
    "\n",
    "start_time = time.time()\n",
    "\n",
    "img = generate_input_representation(instance_token, sample_token)\n",
    "print(f'Gen time: {round(time.time() - start_time, 3)} sec; shape: {img.shape}')\n",
    "\n",
    "show_img(img)"
   ]
  },
  {
   "cell_type": "markdown",
   "id": "6a998ea2",
   "metadata": {},
   "source": [
    "#### State saver"
   ]
  },
  {
   "cell_type": "code",
   "execution_count": 14,
   "id": "1c9e9360",
   "metadata": {},
   "outputs": [],
   "source": [
    "import numpy as np\n",
    "\n",
    "max_velocity = 26.0\n",
    "min_accel = -26.0\n",
    "max_accel = 26.0\n",
    "min_heading_cr = -1.5\n",
    "max_heading_cr = 1.5\n",
    "\n",
    "def value_normalization(value, min_border, max_border):\n",
    "    if np.isnan(value):\n",
    "        return -1\n",
    "    return (value - min_border) / (max_border - min_border)\n",
    "\n",
    "def get_agent_state(instance_token, sample_token):\n",
    "    \n",
    "    # Meters / second.\n",
    "    vel = helper.get_velocity_for_agent(instance_token, sample_token)\n",
    "\n",
    "    # Meters / second^2.\n",
    "    accel = helper.get_acceleration_for_agent(instance_token, sample_token)\n",
    "\n",
    "    # Radians / second.\n",
    "    heading_cr = helper.get_heading_change_rate_for_agent(instance_token, sample_token)\n",
    "    \n",
    "    #print(f'before: {vel} {accel} {heading_cr}')\n",
    "    \n",
    "    vel = value_normalization(vel, 0, max_velocity)\n",
    "    accel = value_normalization(accel, min_accel, max_accel)\n",
    "    heading_cr = value_normalization(heading_cr, min_heading_cr, max_heading_cr)\n",
    "                \n",
    "    state = np.array([vel, accel, heading_cr])\n",
    "    \n",
    "    return state"
   ]
  },
  {
   "cell_type": "code",
   "execution_count": 15,
   "id": "86b41a69",
   "metadata": {},
   "outputs": [
    {
     "data": {
      "text/plain": [
       "array([ 0.187407  , -1.        ,  0.49709033])"
      ]
     },
     "execution_count": 15,
     "metadata": {},
     "output_type": "execute_result"
    }
   ],
   "source": [
    "get_agent_state(instance_token, sample_token)"
   ]
  },
  {
   "cell_type": "markdown",
   "id": "bec680a9",
   "metadata": {},
   "source": [
    "#### Future trajectory saver"
   ]
  },
  {
   "cell_type": "code",
   "execution_count": 13,
   "id": "06d95812",
   "metadata": {},
   "outputs": [],
   "source": [
    "def PlotPathWithPrediction(future, predict=[]):\n",
    "    plt.figure(figsize=(6, 6))\n",
    "\n",
    "    plt.scatter(future[:, 1], -future[:, 0], c='g', s=10)\n",
    "    \n",
    "    if len(predict) > 0:\n",
    "        plt.scatter(predict[:, 1], -predict[:, 0], c='yellow', s=10)\n",
    "\n",
    "    # Keep aspect ratio of axis\n",
    "    plt.axis('equal')\n",
    "    plt.show()"
   ]
  },
  {
   "cell_type": "code",
   "execution_count": 14,
   "id": "4ee6dc8a",
   "metadata": {},
   "outputs": [],
   "source": [
    "def get_future_trajectory(instance_token, sample_token):\n",
    "    gt = helper.get_future_for_agent(instance_token, sample_token, prediction_length, in_agent_frame=True)\n",
    "    return gt.flatten()"
   ]
  },
  {
   "cell_type": "code",
   "execution_count": 15,
   "id": "9735f3a5",
   "metadata": {},
   "outputs": [],
   "source": [
    "gt = get_future_trajectory(instance_token, sample_token)"
   ]
  },
  {
   "cell_type": "code",
   "execution_count": 16,
   "id": "927fe567",
   "metadata": {},
   "outputs": [
    {
     "data": {
      "image/png": "[encoded data removed]",
      "text/plain": [
       "<Figure size 432x432 with 1 Axes>"
      ]
     },
     "metadata": {},
     "output_type": "display_data"
    }
   ],
   "source": [
    "PlotPathWithPrediction(np.reshape(gt, (-1, 2)))"
   ]
  },
  {
   "cell_type": "markdown",
   "id": "3e0fb5a2",
   "metadata": {},
   "source": [
    "### TODO: Dataset creation"
   ]
  },
  {
   "cell_type": "code",
   "execution_count": 9,
   "id": "c4924715",
   "metadata": {},
   "outputs": [],
   "source": [
    "from enum import Enum\n",
    "\n",
    "class DatasetColumns(Enum):\n",
    "    FEATURES = 1\n",
    "    STATES = 2\n",
    "    LABELS = 3"
   ]
  },
  {
   "cell_type": "code",
   "execution_count": 10,
   "id": "9a6e5868",
   "metadata": {},
   "outputs": [],
   "source": [
    "from tqdm import tqdm\n",
    "\n",
    "NPY_DATAROOT = './npy_dataset/'\n",
    "\n",
    "def get_empty_column_batch(samples, column_id):\n",
    "    if column_id == DatasetColumns.FEATURES:\n",
    "        return np.empty([len(samples), 500*500*3], dtype=np.uint8)\n",
    "    \n",
    "    if column_id == DatasetColumns.STATES:\n",
    "        return np.empty([len(samples), 3])\n",
    "\n",
    "    if column_id == DatasetColumns.LABELS:\n",
    "        return np.empty([len(samples), 2*2*prediction_length])\n",
    "\n",
    "\n",
    "def generate_column_batch(samples, column_id, file_name):\n",
    "    \n",
    "    column_batch = get_empty_column_batch(samples, column_id)\n",
    "    \n",
    "    for i, x in enumerate(tqdm(column_batch)):\n",
    "        instance_token, sample_token = samples[i].split(\"_\")\n",
    "        \n",
    "        if column_id == DatasetColumns.FEATURES:\n",
    "            img = generate_input_representation(instance_token, sample_token)\n",
    "            row = img.flatten()\n",
    "            \n",
    "        if column_id == DatasetColumns.STATES:                \n",
    "            row = get_agent_state(instance_token, sample_token)\n",
    "        \n",
    "        if column_id == DatasetColumns.LABELS:\n",
    "            row = helper.get_future_for_agent(instance_token, sample_token, prediction_length, in_agent_frame=True)\n",
    "            row = row.flatten()\n",
    "            \n",
    "        column_batch[i] = row\n",
    "        \n",
    "    np.save(f\"{NPY_DATAROOT}{file_name}.npy\", column_batch)"
   ]
  },
  {
   "cell_type": "code",
   "execution_count": 11,
   "id": "87ee8200",
   "metadata": {},
   "outputs": [],
   "source": [
    "# Сохраняет по батчам\n",
    "batch_size = 50000\n",
    "\n",
    "def generate_column(samples, column_id, file_name):\n",
    "    \n",
    "    for i in range(int(len(samples) / batch_size) + 1):\n",
    "        \n",
    "        from_sample = i * batch_size\n",
    "        to_sample = min((i + 1) * batch_size, len(samples))\n",
    "        \n",
    "        print(f\"[{i}]{from_sample}:{to_sample}\")\n",
    "        \n",
    "        batch = samples[from_sample : to_sample]\n",
    "        generate_column_batch(batch, column_id, file_name + f'_p{i}')"
   ]
  },
  {
   "cell_type": "code",
   "execution_count": 44,
   "id": "74e71a85",
   "metadata": {},
   "outputs": [],
   "source": [
    "### Test range\n",
    "before = []\n",
    "after = []\n",
    "\n",
    "for sample in validation:\n",
    "    instance_token, sample_token = sample.split(\"_\")\n",
    "    \n",
    "    # Meters / second.\n",
    "    vel = helper.get_velocity_for_agent(instance_token, sample_token)\n",
    "\n",
    "    # Meters / second^2.\n",
    "    accel = helper.get_acceleration_for_agent(instance_token, sample_token)\n",
    "\n",
    "    # Radians / second.\n",
    "    heading_cr = helper.get_heading_change_rate_for_agent(instance_token, sample_token)\n",
    "    \n",
    "    before.append(accel)\n",
    "        \n",
    "    vel = value_normalization(vel, 0, max_velocity)\n",
    "    accel = value_normalization(accel, min_accel, max_accel)\n",
    "    heading_cr = value_normalization(heading_cr, min_heading_cr, max_heading_cr)\n",
    "    \n",
    "    after.append(accel)\n",
    "    "
   ]
  },
  {
   "cell_type": "code",
   "execution_count": 43,
   "id": "55fcde7f",
   "metadata": {},
   "outputs": [],
   "source": [
    "before = [x for x in before if abs(x) > 8]"
   ]
  },
  {
   "cell_type": "code",
   "execution_count": 45,
   "id": "96ad7709",
   "metadata": {},
   "outputs": [
    {
     "data": {
      "image/png": "[encoded data removed]",
      "text/plain": [
       "<Figure size 576x360 with 1 Axes>"
      ]
     },
     "metadata": {},
     "output_type": "display_data"
    }
   ],
   "source": [
    "import matplotlib.pyplot as plt\n",
    "\n",
    "plt.figure(figsize=(8,5))\n",
    "plt.hist(before, 60, align='mid')\n",
    "plt.show()"
   ]
  },
  {
   "cell_type": "code",
   "execution_count": 46,
   "id": "dd33155d",
   "metadata": {},
   "outputs": [
    {
     "data": {
      "image/png": "[encoded data removed]",
      "text/plain": [
       "<Figure size 576x360 with 1 Axes>"
      ]
     },
     "metadata": {},
     "output_type": "display_data"
    }
   ],
   "source": [
    "plt.figure(figsize=(8,5))\n",
    "plt.hist(after, 60, align='mid')\n",
    "plt.show()"
   ]
  },
  {
   "cell_type": "code",
   "execution_count": 22,
   "id": "d9b8d07f",
   "metadata": {},
   "outputs": [
    {
     "name": "stdout",
     "output_type": "stream",
     "text": [
      "[0]0:32186\n"
     ]
    },
    {
     "name": "stderr",
     "output_type": "stream",
     "text": [
      "100%|██████████████████████████████████████████████████████████████████████████| 32186/32186 [00:04<00:00, 7300.98it/s]\n"
     ]
    }
   ],
   "source": [
    "generate_column(train, DatasetColumns.STATES, 'norm_train_states')"
   ]
  },
  {
   "cell_type": "code",
   "execution_count": 23,
   "id": "a986ae05",
   "metadata": {},
   "outputs": [
    {
     "name": "stdout",
     "output_type": "stream",
     "text": [
      "[0]0:8560\n"
     ]
    },
    {
     "name": "stderr",
     "output_type": "stream",
     "text": [
      "100%|████████████████████████████████████████████████████████████████████████████| 8560/8560 [00:01<00:00, 7781.57it/s]\n"
     ]
    }
   ],
   "source": [
    "generate_column(validation, DatasetColumns.STATES, 'norm_validation_states')"
   ]
  },
  {
   "cell_type": "markdown",
   "id": "b9549140",
   "metadata": {},
   "source": [
    "### Try to read data and check"
   ]
  },
  {
   "cell_type": "code",
   "execution_count": 52,
   "id": "df4c70be",
   "metadata": {},
   "outputs": [],
   "source": [
    "import numpy as np\n",
    "\n",
    "loaded_img = np.load(f'{NPY_DATAROOT}test.npy')\n",
    "# loaded_states = np.load(f'{NPY_DATAROOT}multiagent_test_states_2k.npy')\n",
    "# loaded_labels = np.load(f'{NPY_DATAROOT}multiagent_test_labels_2k.npy')"
   ]
  },
  {
   "cell_type": "code",
   "execution_count": 53,
   "id": "d0a98146",
   "metadata": {},
   "outputs": [
    {
     "data": {
      "text/plain": [
       "9041"
      ]
     },
     "execution_count": 53,
     "metadata": {},
     "output_type": "execute_result"
    }
   ],
   "source": [
    "len(loaded_img) #, len(loaded_states), len(loaded_labels)"
   ]
  },
  {
   "cell_type": "code",
   "execution_count": 58,
   "id": "e980a068",
   "metadata": {},
   "outputs": [
    {
     "data": {
      "image/png": "[encoded data removed]",
      "text/plain": [
       "<Figure size 432x288 with 1 Axes>"
      ]
     },
     "metadata": {},
     "output_type": "display_data"
    }
   ],
   "source": [
    "index_to_check = 150\n",
    "\n",
    "img = loaded_img[index_to_check]\n",
    "img = img.reshape((500, 500, 3))\n",
    "\n",
    "plt.imshow(img)\n",
    "plt.show()"
   ]
  },
  {
   "cell_type": "code",
   "execution_count": null,
   "id": "dba46874",
   "metadata": {},
   "outputs": [],
   "source": []
  }
 ],
 "metadata": {
  "kernelspec": {
   "display_name": "Python 3 (ipykernel)",
   "language": "python",
   "name": "python3"
  },
  "language_info": {
   "codemirror_mode": {
    "name": "ipython",
    "version": 3
   },
   "file_extension": ".py",
   "mimetype": "text/x-python",
   "name": "python",
   "nbconvert_exporter": "python",
   "pygments_lexer": "ipython3",
   "version": "3.9.7"
  }
 },
 "nbformat": 4,
 "nbformat_minor": 5
}
