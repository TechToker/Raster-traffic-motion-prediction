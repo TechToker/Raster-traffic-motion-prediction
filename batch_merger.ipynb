{
 "cells": [
  {
   "cell_type": "code",
   "execution_count": 1,
   "id": "a30eb506",
   "metadata": {},
   "outputs": [],
   "source": [
    "import numpy as np\n",
    "import torch\n",
    "\n",
    "NPY_DATA_PATH = './npy_dataset/'"
   ]
  },
  {
   "cell_type": "code",
   "execution_count": 50,
   "id": "5336277a",
   "metadata": {},
   "outputs": [],
   "source": [
    "part0 = np.load(f'{NPY_DATA_PATH}train_0_4096_p0.npy')\n",
    "part1 = np.load(f'{NPY_DATA_PATH}train_0_4096_p1.npy')\n",
    "part2 = np.load(f'{NPY_DATA_PATH}train_0_4096_p2.npy')\n",
    "part3 = np.load(f'{NPY_DATA_PATH}train_0_4096_p3.npy')\n",
    "part4 = np.load(f'{NPY_DATA_PATH}train_0_4096_p4.npy')\n",
    "\n",
    "part5 = np.load(f'{NPY_DATA_PATH}train_0_4096_p5.npy')\n",
    "part6 = np.load(f'{NPY_DATA_PATH}train_0_4096_p6.npy')\n",
    "part7 = np.load(f'{NPY_DATA_PATH}train_0_4096_p7.npy')\n",
    "part8 = np.load(f'{NPY_DATA_PATH}train_0_4096_p8.npy')"
   ]
  },
  {
   "cell_type": "code",
   "execution_count": 51,
   "id": "5f827099",
   "metadata": {},
   "outputs": [
    {
     "data": {
      "text/plain": [
       "4096"
      ]
     },
     "execution_count": 51,
     "metadata": {},
     "output_type": "execute_result"
    }
   ],
   "source": [
    "result1 = np.concatenate((part0, part1, part2, part3, part4, part5, part6, part7, part8))\n",
    "len(result1)"
   ]
  },
  {
   "cell_type": "code",
   "execution_count": null,
   "id": "2076412c",
   "metadata": {},
   "outputs": [],
   "source": []
  },
  {
   "cell_type": "code",
   "execution_count": 52,
   "id": "fe945722",
   "metadata": {},
   "outputs": [],
   "source": [
    "part0 = np.load(f'{NPY_DATA_PATH}train_4096_12288_p0.npy')\n",
    "part1 = np.load(f'{NPY_DATA_PATH}train_4096_12288_p1.npy')\n",
    "part2 = np.load(f'{NPY_DATA_PATH}train_4096_12288_p2.npy')\n",
    "part3 = np.load(f'{NPY_DATA_PATH}train_4096_12288_p3.npy')\n",
    "\n",
    "part4 = np.load(f'{NPY_DATA_PATH}train_4096_12288_p4.npy')\n",
    "part5 = np.load(f'{NPY_DATA_PATH}train_4096_12288_p5.npy')\n",
    "part6 = np.load(f'{NPY_DATA_PATH}train_4096_12288_p6.npy')\n",
    "part7 = np.load(f'{NPY_DATA_PATH}train_4096_12288_p7.npy')\n",
    "part8 = np.load(f'{NPY_DATA_PATH}train_4096_12288_p8.npy')"
   ]
  },
  {
   "cell_type": "code",
   "execution_count": 53,
   "id": "fe6e0f76",
   "metadata": {},
   "outputs": [
    {
     "data": {
      "text/plain": [
       "8192"
      ]
     },
     "execution_count": 53,
     "metadata": {},
     "output_type": "execute_result"
    }
   ],
   "source": [
    "result2 = np.concatenate((part0, part1, part2, part3, part4, part5, part6, part7, part8))\n",
    "len(result2)"
   ]
  },
  {
   "cell_type": "code",
   "execution_count": null,
   "id": "8a397186",
   "metadata": {},
   "outputs": [],
   "source": []
  },
  {
   "cell_type": "code",
   "execution_count": 54,
   "id": "cdf458b2",
   "metadata": {},
   "outputs": [],
   "source": [
    "part0 = np.load(f'{NPY_DATA_PATH}train_12288_32k_p0.npy')\n",
    "part1 = np.load(f'{NPY_DATA_PATH}train_12288_32k_p1.npy')\n",
    "part2 = np.load(f'{NPY_DATA_PATH}train_12288_32k_p2.npy')\n",
    "part3 = np.load(f'{NPY_DATA_PATH}train_12288_32k_p3.npy')\n",
    "part4 = np.load(f'{NPY_DATA_PATH}train_12288_32k_p4.npy')\n",
    "part5 = np.load(f'{NPY_DATA_PATH}train_12288_32k_p5.npy')\n",
    "part6 = np.load(f'{NPY_DATA_PATH}train_12288_32k_p6.npy')\n",
    "part7 = np.load(f'{NPY_DATA_PATH}train_12288_32k_p7.npy')\n",
    "part8 = np.load(f'{NPY_DATA_PATH}train_12288_32k_p8.npy')\n",
    "part9 = np.load(f'{NPY_DATA_PATH}train_12288_32k_p9.npy')"
   ]
  },
  {
   "cell_type": "code",
   "execution_count": 58,
   "id": "a2dfdc99",
   "metadata": {},
   "outputs": [
    {
     "data": {
      "text/plain": [
       "19898"
      ]
     },
     "execution_count": 58,
     "metadata": {},
     "output_type": "execute_result"
    }
   ],
   "source": [
    "result3 = np.concatenate((part0, part1, part2, part3, part4, part5, part6, part7, part8, part9))\n",
    "len(result3)"
   ]
  },
  {
   "cell_type": "code",
   "execution_count": 35,
   "id": "874f7f26",
   "metadata": {},
   "outputs": [],
   "source": []
  },
  {
   "cell_type": "code",
   "execution_count": 59,
   "id": "51ba20a4",
   "metadata": {},
   "outputs": [
    {
     "data": {
      "text/plain": [
       "32186"
      ]
     },
     "execution_count": 59,
     "metadata": {},
     "output_type": "execute_result"
    }
   ],
   "source": [
    "result = np.concatenate((result1, result2, result3))\n",
    "len(result)"
   ]
  },
  {
   "cell_type": "code",
   "execution_count": 42,
   "id": "d97da27b",
   "metadata": {},
   "outputs": [],
   "source": []
  },
  {
   "cell_type": "code",
   "execution_count": 61,
   "id": "93c4af99",
   "metadata": {},
   "outputs": [],
   "source": [
    "np.save(f\"{NPY_DATA_PATH}{'train_p0.npy'}\", result[:8192])\n",
    "np.save(f\"{NPY_DATA_PATH}{'train_p1.npy'}\", result[8192:16384])\n",
    "np.save(f\"{NPY_DATA_PATH}{'train_p2.npy'}\", result[16384:24576])\n",
    "np.save(f\"{NPY_DATA_PATH}{'train_p3.npy'}\", result[24576:])"
   ]
  },
  {
   "cell_type": "code",
   "execution_count": null,
   "id": "9bb74e23",
   "metadata": {},
   "outputs": [],
   "source": []
  },
  {
   "cell_type": "code",
   "execution_count": 62,
   "id": "38775143",
   "metadata": {},
   "outputs": [],
   "source": [
    "part1 = np.load(f'{NPY_DATA_PATH}train_p0.npy')\n",
    "part2 = np.load(f'{NPY_DATA_PATH}train_p1.npy')\n",
    "part3 = np.load(f'{NPY_DATA_PATH}train_p2.npy')\n",
    "part4 = np.load(f'{NPY_DATA_PATH}train_p3.npy')"
   ]
  },
  {
   "cell_type": "code",
   "execution_count": 64,
   "id": "3a352734",
   "metadata": {},
   "outputs": [
    {
     "data": {
      "text/plain": [
       "(8192, 8192, 8192, 7610)"
      ]
     },
     "execution_count": 64,
     "metadata": {},
     "output_type": "execute_result"
    }
   ],
   "source": [
    "len(part1), len(part2), len(part3), len(part4) "
   ]
  },
  {
   "cell_type": "code",
   "execution_count": null,
   "id": "780e6a4e",
   "metadata": {},
   "outputs": [],
   "source": []
  },
  {
   "cell_type": "code",
   "execution_count": 67,
   "id": "bb9df646",
   "metadata": {},
   "outputs": [],
   "source": [
    "part0 = np.load(f'{NPY_DATA_PATH}validation_p0.npy')\n",
    "part1 = np.load(f'{NPY_DATA_PATH}validation_p1.npy')\n",
    "part2 = np.load(f'{NPY_DATA_PATH}validation_p2.npy')\n",
    "part3 = np.load(f'{NPY_DATA_PATH}validation_p3.npy')\n",
    "part4 = np.load(f'{NPY_DATA_PATH}validation_p4.npy')\n",
    "\n",
    "part5 = np.load(f'{NPY_DATA_PATH}validation_p5.npy')\n",
    "part6 = np.load(f'{NPY_DATA_PATH}validation_p6.npy')\n",
    "part7 = np.load(f'{NPY_DATA_PATH}validation_p7.npy')\n",
    "part8 = np.load(f'{NPY_DATA_PATH}validation_p8.npy')"
   ]
  },
  {
   "cell_type": "code",
   "execution_count": 69,
   "id": "93fe2e8c",
   "metadata": {},
   "outputs": [
    {
     "data": {
      "text/plain": [
       "8560"
      ]
     },
     "execution_count": 69,
     "metadata": {},
     "output_type": "execute_result"
    }
   ],
   "source": [
    "result = np.concatenate((part0, part1, part2, part3, part4, part5, part6, part7, part8))\n",
    "len(result)"
   ]
  },
  {
   "cell_type": "code",
   "execution_count": 70,
   "id": "1a47e13e",
   "metadata": {},
   "outputs": [],
   "source": [
    "np.save(f\"{NPY_DATA_PATH}{'validation.npy'}\", result)"
   ]
  },
  {
   "cell_type": "code",
   "execution_count": null,
   "id": "076dd9ee",
   "metadata": {},
   "outputs": [],
   "source": []
  },
  {
   "cell_type": "code",
   "execution_count": 71,
   "id": "a74e017a",
   "metadata": {},
   "outputs": [],
   "source": [
    "part0 = np.load(f'{NPY_DATA_PATH}test_p0.npy')\n",
    "part1 = np.load(f'{NPY_DATA_PATH}test_p1.npy')\n",
    "part2 = np.load(f'{NPY_DATA_PATH}test_p2.npy')\n",
    "part3 = np.load(f'{NPY_DATA_PATH}test_p3.npy')\n",
    "part4 = np.load(f'{NPY_DATA_PATH}test_p4.npy')\n",
    "\n",
    "part5 = np.load(f'{NPY_DATA_PATH}test_p5.npy')\n",
    "part6 = np.load(f'{NPY_DATA_PATH}test_p6.npy')\n",
    "part7 = np.load(f'{NPY_DATA_PATH}test_p7.npy')\n",
    "part8 = np.load(f'{NPY_DATA_PATH}test_p8.npy')"
   ]
  },
  {
   "cell_type": "code",
   "execution_count": 72,
   "id": "e468d8c2",
   "metadata": {},
   "outputs": [
    {
     "data": {
      "text/plain": [
       "9041"
      ]
     },
     "execution_count": 72,
     "metadata": {},
     "output_type": "execute_result"
    }
   ],
   "source": [
    "result = np.concatenate((part0, part1, part2, part3, part4, part5, part6, part7, part8))\n",
    "len(result)"
   ]
  },
  {
   "cell_type": "code",
   "execution_count": 73,
   "id": "816b62d9",
   "metadata": {},
   "outputs": [],
   "source": [
    "np.save(f\"{NPY_DATA_PATH}{'test.npy'}\", result)"
   ]
  },
  {
   "cell_type": "code",
   "execution_count": null,
   "id": "7d77be49",
   "metadata": {},
   "outputs": [],
   "source": []
  },
  {
   "cell_type": "code",
   "execution_count": 2,
   "id": "61ae4040",
   "metadata": {},
   "outputs": [],
   "source": [
    "part1 = np.load(f'{NPY_DATA_PATH}/train/train_p1.npy')\n",
    "part2 = np.load(f'{NPY_DATA_PATH}/train/train_p2.npy')\n",
    "part3 = np.load(f'{NPY_DATA_PATH}/train/train_p3.npy')\n",
    "part4 = np.load(f'{NPY_DATA_PATH}/train/train_p4.npy')"
   ]
  },
  {
   "cell_type": "code",
   "execution_count": 3,
   "id": "bf22a271",
   "metadata": {},
   "outputs": [
    {
     "data": {
      "text/plain": [
       "32186"
      ]
     },
     "execution_count": 3,
     "metadata": {},
     "output_type": "execute_result"
    }
   ],
   "source": [
    "result = np.concatenate((part1, part2, part3, part4))\n",
    "len(result)"
   ]
  },
  {
   "cell_type": "code",
   "execution_count": 4,
   "id": "0bceeef1",
   "metadata": {},
   "outputs": [],
   "source": [
    "np.save(f\"{NPY_DATA_PATH}{'train_img.npy'}\", result)"
   ]
  },
  {
   "cell_type": "code",
   "execution_count": null,
   "id": "ed97679d",
   "metadata": {},
   "outputs": [],
   "source": []
  }
 ],
 "metadata": {
  "kernelspec": {
   "display_name": "PyCharm (RoadLanesSegmentation)",
   "language": "python",
   "name": "pycharm-f129abd9"
  },
  "language_info": {
   "codemirror_mode": {
    "name": "ipython",
    "version": 3
   },
   "file_extension": ".py",
   "mimetype": "text/x-python",
   "name": "python",
   "nbconvert_exporter": "python",
   "pygments_lexer": "ipython3",
   "version": "3.8.8"
  }
 },
 "nbformat": 4,
 "nbformat_minor": 5
}
